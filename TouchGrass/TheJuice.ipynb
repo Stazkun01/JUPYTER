{
 "cells": [
  {
   "cell_type": "code",
   "execution_count": 1,
   "id": "5283f769-a6ce-47f4-8ea1-9c108d99f787",
   "metadata": {
    "scrolled": true
   },
   "outputs": [
    {
     "data": {
      "text/html": [
       "<div>\n",
       "<style scoped>\n",
       "    .dataframe tbody tr th:only-of-type {\n",
       "        vertical-align: middle;\n",
       "    }\n",
       "\n",
       "    .dataframe tbody tr th {\n",
       "        vertical-align: top;\n",
       "    }\n",
       "\n",
       "    .dataframe thead th {\n",
       "        text-align: right;\n",
       "    }\n",
       "</style>\n",
       "<table border=\"1\" class=\"dataframe\">\n",
       "  <thead>\n",
       "    <tr style=\"text-align: right;\">\n",
       "      <th></th>\n",
       "      <th>Pays</th>\n",
       "      <th>Age</th>\n",
       "      <th>Genre</th>\n",
       "      <th>Dépenses_des_clients</th>\n",
       "    </tr>\n",
       "  </thead>\n",
       "  <tbody>\n",
       "    <tr>\n",
       "      <th>0</th>\n",
       "      <td>France</td>\n",
       "      <td>32</td>\n",
       "      <td>female</td>\n",
       "      <td>150.50</td>\n",
       "    </tr>\n",
       "    <tr>\n",
       "      <th>1</th>\n",
       "      <td>Germany</td>\n",
       "      <td>45</td>\n",
       "      <td>male</td>\n",
       "      <td>200.75</td>\n",
       "    </tr>\n",
       "    <tr>\n",
       "      <th>2</th>\n",
       "      <td>Spain</td>\n",
       "      <td>28</td>\n",
       "      <td>female</td>\n",
       "      <td>75.25</td>\n",
       "    </tr>\n",
       "    <tr>\n",
       "      <th>3</th>\n",
       "      <td>Italy</td>\n",
       "      <td>39</td>\n",
       "      <td>male</td>\n",
       "      <td>180.00</td>\n",
       "    </tr>\n",
       "    <tr>\n",
       "      <th>4</th>\n",
       "      <td>UK</td>\n",
       "      <td>52</td>\n",
       "      <td>female</td>\n",
       "      <td>250.30</td>\n",
       "    </tr>\n",
       "  </tbody>\n",
       "</table>\n",
       "</div>"
      ],
      "text/plain": [
       "      Pays  Age   Genre  Dépenses_des_clients\n",
       "0   France   32  female                150.50\n",
       "1  Germany   45    male                200.75\n",
       "2    Spain   28  female                 75.25\n",
       "3    Italy   39    male                180.00\n",
       "4       UK   52  female                250.30"
      ]
     },
     "execution_count": 1,
     "metadata": {},
     "output_type": "execute_result"
    }
   ],
   "source": [
    "import pandas as pd\n",
    "\n",
    "# Adding Support for other europian encodings \n",
    "# Removing any rotten lines\n",
    "# Making sure every colum is seperated with this \",\" coma idk\n",
    "try:\n",
    "    data_set = pd.read_csv('data-sell4all.csv', encoding='utf-8', delimiter=',', on_bad_lines='warn')\n",
    "except UnicodeDecodeError:\n",
    "    data_set = pd.read_csv('data-sell4all.csv', encoding='ISO-8859-1', delimiter=',', on_bad_lines='warn')\n",
    "\n",
    "# Cleaning any unexpected characters\n",
    "data_set.columns = [col.strip().replace(' ', '_').replace('’', '\\'') for col in data_set.columns]\n",
    "# making sure \"Dépenses_des_clients\" is only numeric by making any value thats not null\n",
    "data_set['Dépenses_des_clients'] = pd.to_numeric(data_set['Dépenses_des_clients'], errors='coerce')\n",
    "# Doing the same for age\n",
    "data_set['Age'] = pd.to_numeric(data_set['Age'], errors='coerce')\n",
    "# Removing Negative values\n",
    "data_set.loc[data_set['Age'] < 0, 'Age'] = pd.NA\n",
    "# Forcing age to be int\n",
    "data_set['Age'] = data_set['Age'].astype('Int64')\n",
    "# normalising gender to work with it\n",
    "data_set['Genre'] = data_set['Genre'].str.strip().str.lower()\n",
    "# Forcing gender to only be str\n",
    "data_set['Genre'] = data_set['Genre'].astype(str) \n",
    "# Forcing gender to only be two values\n",
    "valid_genders = ['male', 'female']\n",
    "data_set = data_set[data_set['Genre'].isin(valid_genders)]\n",
    "data_set['Genre'] = data_set['Genre'].astype('string')\n",
    "# Forcing Nationality to be str\n",
    "data_set['Pays'] = data_set['Pays'].astype('string')\n",
    "# Handling null colons\n",
    "data_set = data_set.dropna()\n",
    "\n",
    "\n",
    "    \n",
    "# Test display the first 5 rows\n",
    "data_set.head()\n",
    "\n"
   ]
  },
  {
   "cell_type": "code",
   "execution_count": 2,
   "id": "839e0abe-71cb-4966-8119-f0f137fdbeab",
   "metadata": {},
   "outputs": [],
   "source": [
    "# Calculating the median and mean or speding and age \n",
    "median_age = round(data_set['Age'].median(), 2)\n",
    "mean_age = round(data_set['Age'].mean(), 2)\n",
    "median_spending = round(data_set['Dépenses_des_clients'].median(), 2)\n",
    "mean_spending = round(data_set['Dépenses_des_clients'].mean(), 2)\n",
    "\n"
   ]
  },
  {
   "cell_type": "code",
   "execution_count": 3,
   "id": "f5388125-fe57-4e89-9299-5e7e84d0cfcb",
   "metadata": {},
   "outputs": [
    {
     "name": "stderr",
     "output_type": "stream",
     "text": [
      "Matplotlib is building the font cache; this may take a moment.\n"
     ]
    },
    {
     "name": "stdout",
     "output_type": "stream",
     "text": [
      "Technical summary\n",
      "Number of Rows: 52\n",
      "Number of Columns: 4\n",
      "Data Types:\n",
      "Pays                    string[python]\n",
      "Age                              Int64\n",
      "Genre                   string[python]\n",
      "Dépenses_des_clients           float64\n",
      "dtype: object\n",
      "Medians and means summary\n",
      "The median age of your costumers is: 36.0\n",
      "The mean age of your costumers is: 37.4\n",
      "The median of costumer spending is: 162.62\n",
      "The mean of costumer spending is: 156.5\n"
     ]
    },
    {
     "data": {
      "image/png": "[encoded data removed]",
      "text/plain": [
       "<Figure size 640x480 with 1 Axes>"
      ]
     },
     "metadata": {},
     "output_type": "display_data"
    }
   ],
   "source": [
    "import matplotlib.pyplot as plt\n",
    "\n",
    "# Technical summar\n",
    "print('Technical summary')\n",
    "print('Number of Rows:',data_set.shape[0])\n",
    "print('Number of Columns:',data_set.shape[1])\n",
    "print('Data Types:')\n",
    "print(data_set.dtypes)\n",
    "print('Medians and means summary')\n",
    "print(\"The median age of your costumers is:\",median_age)\n",
    "print(\"The mean age of your costumers is:\",mean_age)\n",
    "print(\"The median of costumer spending is:\",median_spending)\n",
    "print(\"The mean of costumer spending is:\",mean_spending)\n",
    "# Group by country and sum the spending\n",
    "spending_by_country = data_set.groupby('Pays')['Dépenses_des_clients'].sum()\n",
    "\n",
    "# Create a bar chart\n",
    "spending_by_country.plot(kind='bar')\n",
    "plt.xlabel('Pays')\n",
    "plt.ylabel('Total Customer Spending')\n",
    "plt.title('Customer Spending by Country')\n",
    "plt.show()\n",
    "# Removing the poor\n",
    "data_set = data_set[data_set['Dépenses_des_clients'] >= 10]\n",
    "# Removing the dups\n",
    "data_set = data_set.drop_duplicates()\n",
    "# Saving the data set\n",
    "data_set.to_csv('./output_file.csv', index=False)"
   ]
  }
 ],
 "metadata": {
  "kernelspec": {
   "display_name": "Python 3 (ipykernel)",
   "language": "python",
   "name": "python3"
  },
  "language_info": {
   "codemirror_mode": {
    "name": "ipython",
    "version": 3
   },
   "file_extension": ".py",
   "mimetype": "text/x-python",
   "name": "python",
   "nbconvert_exporter": "python",
   "pygments_lexer": "ipython3",
   "version": "3.12.4"
  }
 },
 "nbformat": 4,
 "nbformat_minor": 5
}
